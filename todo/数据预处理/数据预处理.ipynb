{
 "cells": [
  {
   "cell_type": "markdown",
   "metadata": {},
   "source": [
    "### 数据预处理\n",
    "对裁判文书进行数据预处理，步骤包括：\n",
    "\n",
    "1、（由于文件大小限制，只使用了裁判文书中的【法院意见】一栏）\n",
    "\n",
    "2、去除标点符号、特殊字符、注释、冗余词\n",
    "\n",
    "3、去除保险公司参与的案件\n",
    "\n",
    "4、只保留长度适中的文书"
   ]
  },
  {
   "cell_type": "code",
   "execution_count": 1,
   "metadata": {},
   "outputs": [
    {
     "name": "stdout",
     "output_type": "stream",
     "text": [
      "数据预处理完成！\n"
     ]
    }
   ],
   "source": [
    "# -*- coding:utf-8 -*-\n",
    "# author:ZHANG SHIWEI\n",
    "# datetime:2019/4/15\n",
    "\n",
    "import re\n",
    "from random import shuffle\n",
    "\n",
    "# 定义标点符号和特殊字母\n",
    "punctuation = '''，。、:；（）ＸX×xa\"“”,<《》'''\n",
    "\n",
    "# 裁判文书原始文件路径\n",
    "original_file = \"original_data.txt\"\n",
    "processed_file = \"processed_data.txt\"\n",
    "\n",
    "\n",
    "def data_process():\n",
    "    # 对原始数据进行预处理\n",
    "    f1 = open(original_file, \"r\", encoding='utf-8')\n",
    "    processed_cases = []  # 存储处理后的案件\n",
    "    for line in f1.readlines():\n",
    "        try:\n",
    "            location, content = line.strip().split(\"\\t\")  # 存储案件对应的地区、内容\n",
    "        except ValueError:\n",
    "            continue\n",
    "        else:\n",
    "            line1 = re.sub(u\"（.*?）\", \"\", content)  # 去除括号内注释\n",
    "            line2 = re.sub(\"[%s]+\" % punctuation, \"\", line1)  # 去除标点、特殊字母\n",
    "            # 去除冗余词\n",
    "            line3 = re.sub(\n",
    "                \"本院认为|违反道路交通管理法规|驾驶机动车辆|因而|违反道路交通运输管理法规|违反交通运输管理法规|缓刑考.*?计算|刑期.*?止|依照|《.*?》|第.*?条|第.*?款|的|了|其|另|已|且\",\n",
    "                \"\",\n",
    "                line2)\n",
    "            # 删除内容过少或过长的文书，删除包含’保险‘的文书，只保留以’被告人‘开头的文书\n",
    "            if 100 < len(line3) < 400 and line3.startswith(\n",
    "                    \"被告人\") and \"保险\" not in line3:\n",
    "                processed_cases.append(location + '\\t' + line3)\n",
    "    f1.close()\n",
    "\n",
    "    # 打乱数据\n",
    "    shuffle(processed_cases)\n",
    "\n",
    "    # 将预处理后的案件写到文本中\n",
    "    f2 = open(processed_file, \"w\", encoding='utf-8')\n",
    "    for idx, case in enumerate(processed_cases):\n",
    "        f2.write(str(idx + 1) + \"\\t\" + case + \"\\n\")\n",
    "    f2.close()\n",
    "    print(\"数据预处理完成！\")\n",
    "\n",
    "\n",
    "if __name__ == '__main__':\n",
    "    data_process()"
   ]
  }
 ],
 "metadata": {
  "kernelspec": {
   "display_name": "lawenv",
   "language": "python",
   "name": "python3"
  },
  "language_info": {
   "codemirror_mode": {
    "name": "ipython",
    "version": 3
   },
   "file_extension": ".py",
   "mimetype": "text/x-python",
   "name": "python",
   "nbconvert_exporter": "python",
   "pygments_lexer": "ipython3",
   "version": "3.1.undefined"
  }
 },
 "nbformat": 4,
 "nbformat_minor": 2
}
